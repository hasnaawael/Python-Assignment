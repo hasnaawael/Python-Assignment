{
 "cells": [
  {
   "cell_type": "markdown",
   "id": "438db0ef-e1e1-4ea0-9d52-9dafccfb288f",
   "metadata": {},
   "source": [
    "## OOP Exercises\n",
    "\n",
    "1) Write a Python program to create a class representing a Circle. Include methods to calculate its area and perimeter."
   ]
  },
  {
   "cell_type": "code",
   "execution_count": 1,
   "id": "8ebbd8ac-1f4d-4903-9ee9-b33a47a40e5d",
   "metadata": {},
   "outputs": [],
   "source": [
    "import math\n",
    "class Circle:\n",
    "    def __init__(self, radius):\n",
    "        self.radius = radius\n",
    "\n",
    "    def area(self):\n",
    "        return math.pi * self.radius ** 2\n",
    "\n",
    "    def perimeter(self):\n",
    "        return 2 * math.pi * self.radius\n"
   ]
  },
  {
   "cell_type": "code",
   "execution_count": 2,
   "id": "8bfdc5a7-e229-401c-8d3e-5ec18af374f6",
   "metadata": {},
   "outputs": [
    {
     "name": "stdout",
     "output_type": "stream",
     "text": [
      "Enter the radius of the circle: 50\n",
      "Area of the circle: 7853.981633974483\n",
      "Perimeter of the circle: 314.1592653589793\n"
     ]
    }
   ],
   "source": [
    "radius = float(input(\"Enter the radius of the circle: \"))\n",
    "circle = Circle(radius)\n",
    "print(\"Area of the circle:\", circle.area())\n",
    "print(\"Perimeter of the circle:\", circle.perimeter())"
   ]
  },
  {
   "cell_type": "markdown",
   "id": "16db9475-8094-4098-b29a-60be6012588d",
   "metadata": {},
   "source": [
    "<br>\n",
    "\n",
    "---\n",
    "\n",
    "2) Write a Python program to create a person class. Include attributes like name, country and date of birth. Implement a method to determine the person's age."
   ]
  },
  {
   "cell_type": "code",
   "execution_count": 3,
   "id": "855a0839-2e7b-4145-ae94-e94beb3c5123",
   "metadata": {},
   "outputs": [],
   "source": [
    "from datetime import date\n",
    "class Person:\n",
    "    def __init__(self, name, country, dateOb):\n",
    "        self.name = name\n",
    "        self.country = country\n",
    "        self.dateOb = dateOb\n",
    "\n",
    "    def calculate_age(self):\n",
    "        today = date.today()\n",
    "        dateOb_year, dateOb_month, dateOb_day = map(int, self.dateOb.split('-'))\n",
    "        age = today.year - dateOb_year - ((today.month, today.day) < (dateOb_month, dateOb_day))\n",
    "        return age"
   ]
  },
  {
   "cell_type": "code",
   "execution_count": 4,
   "id": "c3422cf4-9675-4284-a323-665964fcc3cb",
   "metadata": {},
   "outputs": [
    {
     "name": "stdout",
     "output_type": "stream",
     "text": [
      "Enter the person's name: Hasnaa\n",
      "Enter the person's country: Egypt\n",
      "Enter the person's date of birth (YYYY-MM-DD): 2001-20-8\n",
      "Age of Hasnaa is: 22\n"
     ]
    }
   ],
   "source": [
    "name = input(\"Enter the person's name: \")\n",
    "country = input(\"Enter the person's country: \")\n",
    "dateOb = input(\"Enter the person's date of birth (YYYY-MM-DD): \")\n",
    "\n",
    "person = Person(name, country, dateOb)\n",
    "print(\"Age of\", person.name, \"is:\", person.calculate_age())"
   ]
  },
  {
   "cell_type": "markdown",
   "id": "c43ca8a9-c8fc-4cad-bf9e-366651bed6ff",
   "metadata": {},
   "source": [
    "<br>\n",
    "\n",
    "---\n",
    "3) Write a Python program to create a calculator class. Include methods for basic arithmetic operations."
   ]
  },
  {
   "cell_type": "code",
   "execution_count": 5,
   "id": "6b23503c-3e87-4261-bf23-b436302439e5",
   "metadata": {},
   "outputs": [],
   "source": [
    "class Calculator:\n",
    "    def add(self, x, y):\n",
    "        return x + y\n",
    "\n",
    "    def subtract(self, x, y):\n",
    "        return x - y\n",
    "\n",
    "    def multiply(self, x, y):\n",
    "        return x * y\n",
    "\n",
    "    def divide(self, x, y):\n",
    "        return x / y"
   ]
  },
  {
   "cell_type": "code",
   "execution_count": 6,
   "id": "b27851c4-046c-4ec4-a024-c202e1dfd093",
   "metadata": {},
   "outputs": [
    {
     "name": "stdout",
     "output_type": "stream",
     "text": [
      "Addition: 12\n",
      "Subtraction: 8\n",
      "Multiplication: 20\n",
      "Division: 5.0\n"
     ]
    }
   ],
   "source": [
    "calculator = Calculator()\n",
    "print(\"Addition:\", calculator.add(10, 2))\n",
    "print(\"Subtraction:\", calculator.subtract(10, 2))\n",
    "print(\"Multiplication:\", calculator.multiply(10, 2))\n",
    "print(\"Division:\", calculator.divide(10, 2))"
   ]
  },
  {
   "cell_type": "markdown",
   "id": "f55ac6f9-f841-4acb-bb6f-290aea2d7c50",
   "metadata": {},
   "source": [
    "<br>\n",
    "\n",
    "---\n",
    "4) Write a Python program to create a class representing a stack data structure. Include methods for pushing and popping elements."
   ]
  },
  {
   "cell_type": "code",
   "execution_count": 9,
   "id": "b9106276-ec80-415c-bffc-67b87e91637c",
   "metadata": {},
   "outputs": [],
   "source": [
    "class Stack:\n",
    "    def __init__(self):\n",
    "        self.items = []\n",
    "\n",
    "    def push(self, item):\n",
    "        self.items.append(item)\n",
    "\n",
    "    def pop(self):\n",
    "        if self.items:\n",
    "            return self.items.pop()\n"
   ]
  },
  {
   "cell_type": "code",
   "execution_count": 10,
   "id": "bb03c528-dce7-4a3d-a2e7-f16d8754c4b3",
   "metadata": {},
   "outputs": [
    {
     "name": "stdout",
     "output_type": "stream",
     "text": [
      "Popping: 3\n",
      "Popping: 2\n"
     ]
    }
   ],
   "source": [
    "stack = Stack()\n",
    "stack.push(1)\n",
    "stack.push(2)\n",
    "stack.push(3)\n",
    "\n",
    "print(\"Popping:\", stack.pop())\n",
    "print(\"Popping:\", stack.pop())"
   ]
  },
  {
   "cell_type": "markdown",
   "id": "a4567bae-9e92-47f9-88b7-8ac2c90846be",
   "metadata": {},
   "source": [
    "<br>\n",
    "\n",
    "---\n",
    "5) Write a Python program to create a class representing a queue data structure. Include methods for enqueueing and dequeueing elements."
   ]
  },
  {
   "cell_type": "code",
   "execution_count": 11,
   "id": "54170e3a-be7b-41b0-941c-1961bc194a6e",
   "metadata": {},
   "outputs": [],
   "source": [
    "class Queue:\n",
    "    def __init__(self):\n",
    "        self.items = []\n",
    "\n",
    "    def enqueue(self, item):\n",
    "        self.items.append(item)\n",
    "\n",
    "    def dequeue(self):\n",
    "        if self.items:\n",
    "            return self.items.pop(0)\n",
    "        else:\n",
    "            return \"Queue is empty\"\n"
   ]
  },
  {
   "cell_type": "code",
   "execution_count": 12,
   "id": "a3ff8049-8c39-4ab6-ad47-eb89d30864b2",
   "metadata": {},
   "outputs": [
    {
     "name": "stdout",
     "output_type": "stream",
     "text": [
      "Dequeuing: 1\n",
      "Dequeuing: 2\n"
     ]
    }
   ],
   "source": [
    "queue = Queue()\n",
    "queue.enqueue(1)\n",
    "queue.enqueue(2)\n",
    "queue.enqueue(3)\n",
    "\n",
    "print(\"Dequeuing:\", queue.dequeue())\n",
    "print(\"Dequeuing:\", queue.dequeue())"
   ]
  },
  {
   "cell_type": "markdown",
   "id": "c6d24fb3-017d-49a6-9e53-4150c46b5cc0",
   "metadata": {},
   "source": [
    "<br>\n",
    "\n",
    "---\n",
    "6) Write a Python program to create a class representing a shopping cart. Include methods for adding and removing items, and calculating the total price.\n",
    "\n",
    "example output:\n",
    "```python\n",
    "cart = ShoppingCart()\n",
    "\n",
    "cart.add_item(\"Papaya\", 100)\n",
    "cart.add_item(\"Guava\", 200)\n",
    "cart.add_item(\"Orange\", 150)\n",
    "print(cart.items)    # output:   [(\"Papaya\", 100), (\"Guava\", 200), (\"Orange\", 150)]\n",
    "\n",
    "total_qty = cart.calculate_total()   \n",
    "print(total_qty)    # output:   450\n",
    "\n",
    "cart.remove_item(\"Orange\")\n",
    "print(cart.items)    # output:   [(\"Papaya\", 100), (\"Guava\", 200)]\n",
    "```"
   ]
  },
  {
   "cell_type": "code",
   "execution_count": 13,
   "id": "c89ca500-c6ee-4e46-8c53-8d57138f64ba",
   "metadata": {},
   "outputs": [],
   "source": [
    "class ShoppingCart:\n",
    "    def __init__(self):\n",
    "        self.items = []\n",
    "\n",
    "    def add_item(self, item_name, price):\n",
    "        self.items.append((item_name, price))\n",
    "\n",
    "    def remove_item(self, item_name):\n",
    "        self.items = [(name, price) for name, price in self.items if name != item_name]\n",
    "\n",
    "    def calculate_total(self):\n",
    "        return sum(price for _, price in self.items)\n"
   ]
  },
  {
   "cell_type": "code",
   "execution_count": 14,
   "id": "fbcd0d9c-bba2-4cf4-adde-cf131d6e8aa7",
   "metadata": {},
   "outputs": [
    {
     "name": "stdout",
     "output_type": "stream",
     "text": [
      "[('Papaya', 100), ('Guava', 200), ('Orange', 150)]\n",
      "450\n",
      "[('Papaya', 100), ('Guava', 200)]\n"
     ]
    }
   ],
   "source": [
    "# Example usage:\n",
    "cart = ShoppingCart()\n",
    "\n",
    "cart.add_item(\"Papaya\", 100)\n",
    "cart.add_item(\"Guava\", 200)\n",
    "cart.add_item(\"Orange\", 150)\n",
    "print(cart.items)    # Output: [(\"Papaya\", 100), (\"Guava\", 200), (\"Orange\", 150)]\n",
    "\n",
    "total_price = cart.calculate_total()   \n",
    "print(total_price)    # Output: 450\n",
    "\n",
    "cart.remove_item(\"Orange\")\n",
    "print(cart.items)    # Output: [(\"Papaya\", 100), (\"Guava\", 200)]"
   ]
  },
  {
   "cell_type": "markdown",
   "id": "50cfe822-cdaf-4e8c-bbd2-d265d091e51d",
   "metadata": {},
   "source": [
    "<br>\n",
    "\n",
    "---\n",
    "7) Write a Python program to create a class representing a bank. Include methods for managing customer accounts and transactions.\n",
    "    * Make a method for deposit\n",
    "    * Make a method for withdrawal\n",
    "    * Make a method for checking balance"
   ]
  },
  {
   "cell_type": "code",
   "execution_count": 15,
   "id": "83e0cce3-a350-4799-8631-62d3557197e2",
   "metadata": {},
   "outputs": [],
   "source": [
    "class Bank:\n",
    "    def __init__(self):\n",
    "        self.accounts = {}\n",
    "\n",
    "    def create_account(self, account_number, initial_balance=0):\n",
    "        if account_number not in self.accounts:\n",
    "            self.accounts[account_number] = initial_balance\n",
    "            print(f\"Account created successfully with account number {account_number}\")\n",
    "        else:\n",
    "            print(\"Account already exists with this account number.\")\n",
    "\n",
    "    def deposit(self, account_number, amount):\n",
    "        if account_number in self.accounts:\n",
    "            self.accounts[account_number] += amount\n",
    "            print(f\"Deposited {amount} into account {account_number}.\")\n",
    "        else:\n",
    "            print(\"Account does not exist.\")\n",
    "\n",
    "    def withdraw(self, account_number, amount):\n",
    "        if account_number in self.accounts:\n",
    "            if self.accounts[account_number] >= amount:\n",
    "                self.accounts[account_number] -= amount\n",
    "                print(f\"Withdrew {amount} from account {account_number}.\")\n",
    "            else:\n",
    "                print(\"Insufficient balance.\")\n",
    "        else:\n",
    "            print(\"Account does not exist.\")\n",
    "\n",
    "    def check_balance(self, account_number):\n",
    "        if account_number in self.accounts:\n",
    "            print(f\"Balance in account {account_number}: {self.accounts[account_number]}\")\n",
    "        else:\n",
    "            print(\"Account does not exist.\")\n"
   ]
  },
  {
   "cell_type": "code",
   "execution_count": 16,
   "id": "56c13604-e365-4a5a-9cd8-99fd1aa40c0a",
   "metadata": {},
   "outputs": [
    {
     "name": "stdout",
     "output_type": "stream",
     "text": [
      "Account created successfully with account number 12345\n",
      "Deposited 500 into account 12345.\n",
      "Withdrew 200 from account 12345.\n",
      "Balance in account 12345: 1300\n"
     ]
    }
   ],
   "source": [
    "bank = Bank()\n",
    "bank.create_account(\"12345\", 1000)\n",
    "bank.deposit(\"12345\", 500)\n",
    "bank.withdraw(\"12345\", 200)\n",
    "bank.check_balance(\"12345\")\n"
   ]
  },
  {
   "cell_type": "code",
   "execution_count": null,
   "id": "37afea9b-2b21-46f7-9d38-6cb52c1aac8b",
   "metadata": {},
   "outputs": [],
   "source": []
  }
 ],
 "metadata": {
  "kernelspec": {
   "display_name": "Python 3 (ipykernel)",
   "language": "python",
   "name": "python3"
  },
  "language_info": {
   "codemirror_mode": {
    "name": "ipython",
    "version": 3
   },
   "file_extension": ".py",
   "mimetype": "text/x-python",
   "name": "python",
   "nbconvert_exporter": "python",
   "pygments_lexer": "ipython3",
   "version": "3.9.13"
  }
 },
 "nbformat": 4,
 "nbformat_minor": 5
}
