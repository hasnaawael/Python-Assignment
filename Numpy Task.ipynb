{
 "cells": [
  {
   "cell_type": "markdown",
   "id": "fe9d8727",
   "metadata": {},
   "source": [
    "##  LAB 1-1"
   ]
  },
  {
   "cell_type": "code",
   "execution_count": 1,
   "id": "9a06460d",
   "metadata": {},
   "outputs": [
    {
     "name": "stdout",
     "output_type": "stream",
     "text": [
      "1 4\n",
      "1 2 3 4\n",
      "5 6 7 8\n",
      "[[ 6  8 10 12]]\n",
      "[[-4 -4 -4 -4]]\n",
      "[[ 5 12 21 32]]\n",
      "[[0 0 0 0]]\n",
      "[[1 2 3 4]]\n",
      "[[    1    64  2187 65536]]\n"
     ]
    }
   ],
   "source": [
    "import numpy as np\n",
    "# Take dimensions & Data\n",
    "N, M = map(int, input().split())\n",
    "A = np.array([list(map(int, input().split())) for i in range(N)])\n",
    "B = np.array([list(map(int, input().split())) for i in range(N)])\n",
    "#Make our operations\n",
    "add = A + B\n",
    "subtract = A - B\n",
    "multipl = A * B\n",
    "div = np.floor_divide(A, B)\n",
    "modulus = A % B\n",
    "power = A ** B\n",
    "# Get the results\n",
    "print(add)\n",
    "print(subtract)\n",
    "print(multipl)\n",
    "print(div)\n",
    "print(modulus)\n",
    "print(power)"
   ]
  },
  {
   "cell_type": "markdown",
   "id": "9c7d7fda",
   "metadata": {},
   "source": [
    "## LAB 2-1"
   ]
  },
  {
   "cell_type": "code",
   "execution_count": 4,
   "id": "df698e48",
   "metadata": {},
   "outputs": [
    {
     "name": "stdout",
     "output_type": "stream",
     "text": [
      "2 2 \n",
      "1 2\n",
      "3 4\n",
      "Transposed array : \n",
      "[[1 3]\n",
      " [2 4]]\n",
      "Flatten array : \n",
      "[1 2 3 4]\n"
     ]
    }
   ],
   "source": [
    "# Take dimensions & Data\n",
    "N, M = map(int, input().split())\n",
    "matrix = np.array([list(map(int, input().split())) for i in range(N)])\n",
    "\n",
    "# transpose\n",
    "transpose = np.transpose(matrix)\n",
    "\n",
    "#  flattened array\n",
    "flatten = matrix.flatten()\n",
    "print(\"Transposed array : \")\n",
    "print(transpose)\n",
    "print(\"Flatten array : \")\n",
    "print(flatten)"
   ]
  },
  {
   "cell_type": "markdown",
   "id": "e8126594",
   "metadata": {},
   "source": [
    "## LAB 3-1"
   ]
  },
  {
   "cell_type": "code",
   "execution_count": 5,
   "id": "3917368b",
   "metadata": {},
   "outputs": [
    {
     "name": "stdout",
     "output_type": "stream",
     "text": [
      "2 2\n",
      "1 2\n",
      "3 4\n",
      "[1.5 3.5]\n",
      "[1. 1.]\n",
      "1.118033988749895\n"
     ]
    }
   ],
   "source": [
    "# Take dimensions & Data\n",
    "N, M = map(int, input().split())\n",
    "matrix = np.array([list(map(int, input().split())) for _ in range(N)])\n",
    "\n",
    "# Compute the mean \n",
    "mean = np.mean(matrix, axis=1)\n",
    "# Compute the variance \n",
    "var = np.var(matrix, axis=0)\n",
    "# Compute the standard deviation along the entire array\n",
    "std = np.std(matrix, axis=None)\n",
    "\n",
    "# Print the results\n",
    "print(mean)\n",
    "print(var)\n",
    "print(std)\n"
   ]
  },
  {
   "cell_type": "markdown",
   "id": "b4fd3d5a",
   "metadata": {},
   "source": [
    "## LAB 4-1"
   ]
  },
  {
   "cell_type": "code",
   "execution_count": 6,
   "id": "f83d169d",
   "metadata": {},
   "outputs": [
    {
     "name": "stdout",
     "output_type": "stream",
     "text": [
      "1.1 2 3\n",
      "0\n",
      "3.0\n"
     ]
    }
   ],
   "source": [
    "coefficients = list(map(float, input().split()))\n",
    "x = float(input())\n",
    "result = np.polyval(coefficients, x)\n",
    "print(result)"
   ]
  },
  {
   "cell_type": "markdown",
   "id": "ba72f401",
   "metadata": {},
   "source": [
    "## LAB 5-1"
   ]
  },
  {
   "cell_type": "code",
   "execution_count": 8,
   "id": "84285c60",
   "metadata": {},
   "outputs": [
    {
     "name": "stdout",
     "output_type": "stream",
     "text": [
      "First two rows:\n",
      "[[0.44091073 0.69109362 0.18131267]\n",
      " [0.66710747 0.0875695  0.23612429]]\n",
      "\n",
      "First column:\n",
      "[0.44091073 0.66710747 0.43774096]\n",
      "\n",
      "Second element of the third row: 0.504330497664742\n"
     ]
    }
   ],
   "source": [
    "# Creat 3D Array\n",
    "random_array = np.random.rand(3, 3)\n",
    "# Get first two rows\n",
    "two_rows = random_array[:2]\n",
    "# Get first two column\n",
    "first_column = random_array[:, 0]\n",
    "# Get second element third row\n",
    "second_element_third_row = random_array[2, 1]\n",
    "print(\"First two rows:\")\n",
    "print(two_rows)\n",
    "print(\"\\nFirst column:\")\n",
    "print(first_column)\n",
    "print(\"\\nSecond element of the third row:\", second_element_third_row)\n"
   ]
  },
  {
   "cell_type": "markdown",
   "id": "e6d8fc4b",
   "metadata": {},
   "source": [
    "## LAB 6-1"
   ]
  },
  {
   "cell_type": "code",
   "execution_count": 11,
   "id": "bbf9a1b9",
   "metadata": {},
   "outputs": [
    {
     "name": "stdout",
     "output_type": "stream",
     "text": [
      "Discount Percentage Array:\n",
      "[0.24742606 0.09299006 0.61176337 0.06066207 0.66103343 0.75515778]\n",
      "Percentage Owed After Discount:\n",
      "[0.75257394 0.90700994 0.38823663 0.93933793 0.33896657 0.24484222]\n",
      "Final Amount Owed After Discount:\n",
      "[ 8.27 10.88 10.67 98.62  3.39 13.46]\n"
     ]
    }
   ],
   "source": [
    "#  Add a Shipping Fee\n",
    "prices = np.array([5.99, 6.99, 22.49, 99.99, 4.99, 49.99])\n",
    "total = prices + 5\n",
    "# Create a Random Discount Array\n",
    "rng = np.random.default_rng(2022)\n",
    "random_array = rng.random(size=9).reshape(3, 3)\n",
    "# Apply Discounts to Prices\n",
    "discount = random_array[:2].flatten()\n",
    "pct_owed = 1 - discount\n",
    "final_owed = np.round(pct_owed * total, 2)\n",
    "\n",
    "print(\"Discount Percentage Array:\")\n",
    "print(discount)\n",
    "print(\"Percentage Owed After Discount:\")\n",
    "print(pct_owed)\n",
    "print(\"Final Amount Owed After Discount:\")\n",
    "print(final_owed)\n"
   ]
  },
  {
   "cell_type": "code",
   "execution_count": null,
   "id": "a3e7604d",
   "metadata": {},
   "outputs": [],
   "source": []
  },
  {
   "cell_type": "code",
   "execution_count": null,
   "id": "ec27e24a",
   "metadata": {},
   "outputs": [],
   "source": []
  }
 ],
 "metadata": {
  "kernelspec": {
   "display_name": "Python 3 (ipykernel)",
   "language": "python",
   "name": "python3"
  },
  "language_info": {
   "codemirror_mode": {
    "name": "ipython",
    "version": 3
   },
   "file_extension": ".py",
   "mimetype": "text/x-python",
   "name": "python",
   "nbconvert_exporter": "python",
   "pygments_lexer": "ipython3",
   "version": "3.9.13"
  }
 },
 "nbformat": 4,
 "nbformat_minor": 5
}
