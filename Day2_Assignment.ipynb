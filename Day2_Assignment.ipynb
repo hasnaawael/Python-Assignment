{
 "cells": [
  {
   "cell_type": "markdown",
   "metadata": {},
   "source": [
    "### Big(O) notation:"
   ]
  },
  {
   "cell_type": "code",
   "execution_count": 2,
   "metadata": {},
   "outputs": [
    {
     "name": "stdout",
     "output_type": "stream",
     "text": [
      "4\n"
     ]
    }
   ],
   "source": [
    "# Write a function that has a complexity of O(1)\n",
    "def function(i):\n",
    "    return i + 1\n",
    "print(function(3))"
   ]
  },
  {
   "cell_type": "code",
   "execution_count": 5,
   "metadata": {},
   "outputs": [
    {
     "name": "stdout",
     "output_type": "stream",
     "text": [
      "15\n"
     ]
    }
   ],
   "source": [
    "# Write a function that has a complexity of O(n)\n",
    "def function(mylist):\n",
    "    total = 0\n",
    "    for num in mylist:\n",
    "        total += num\n",
    "    return total\n",
    "print(function([1,2,3,4,5]))"
   ]
  },
  {
   "cell_type": "code",
   "execution_count": 7,
   "metadata": {},
   "outputs": [
    {
     "name": "stdout",
     "output_type": "stream",
     "text": [
      "22\n"
     ]
    }
   ],
   "source": [
    "# Write a function that has a complexity of O(n+m)\n",
    "def function(list1, list2):\n",
    "    total = 0\n",
    "    for num in list1:\n",
    "        total += num\n",
    "    for num in list2:\n",
    "        total += num\n",
    "    return total\n",
    "print(function([1,2,7], [3,4,5]))"
   ]
  },
  {
   "cell_type": "code",
   "execution_count": 9,
   "metadata": {},
   "outputs": [
    {
     "name": "stdout",
     "output_type": "stream",
     "text": [
      "100\n"
     ]
    }
   ],
   "source": [
    "# Write a function that has a complexity of O(n^2)\n",
    "def function(mylist):\n",
    "    total = 0\n",
    "    for i in mylist:\n",
    "        for j in mylist:\n",
    "            total += i * j\n",
    "    return total\n",
    "print(function([1,2,7]))"
   ]
  },
  {
   "cell_type": "code",
   "execution_count": 11,
   "metadata": {},
   "outputs": [
    {
     "name": "stdout",
     "output_type": "stream",
     "text": [
      "120\n"
     ]
    }
   ],
   "source": [
    "# Write a function that has a complexity of O(n*m)\n",
    "def nested_function(list1, list2):\n",
    "    total = 0\n",
    "    for i in list1:\n",
    "        for j in list2:\n",
    "            total += i * j\n",
    "    return total\n",
    "print(nested_function([1,2,7], [3,4,5]))"
   ]
  },
  {
   "cell_type": "markdown",
   "metadata": {},
   "source": [
    "## Recursion  \n"
   ]
  },
  {
   "cell_type": "markdown",
   "metadata": {},
   "source": [
    "---\n",
    "### 1) Multiplication"
   ]
  },
  {
   "cell_type": "code",
   "execution_count": 12,
   "metadata": {},
   "outputs": [
    {
     "name": "stdout",
     "output_type": "stream",
     "text": [
      "20\n"
     ]
    }
   ],
   "source": [
    "# Write a function that takes in two numbers and recursively multiplies them together. \n",
    "def rMult(n1, n2):\n",
    "    \"\"\"Takes in two nonnegative numbers and recursively multiplies them together.\"\"\"\n",
    "    if n2 == 0:\n",
    "        return 0\n",
    "    elif n2 > 0:\n",
    "        return n1 + rMult(n1, n2 - 1)\n",
    "    else:\n",
    "        return -rMult(n1, -n2)\n",
    "\n",
    "# Tests\n",
    "print(rMult(5, 4))"
   ]
  },
  {
   "cell_type": "markdown",
   "metadata": {},
   "source": [
    "---\n",
    "### 2) Exponentials"
   ]
  },
  {
   "cell_type": "code",
   "execution_count": 13,
   "metadata": {},
   "outputs": [
    {
     "name": "stdout",
     "output_type": "stream",
     "text": [
      "16\n"
     ]
    }
   ],
   "source": [
    "# Write a recursive function that calculates the exponent of a number \n",
    "# input; n 'the number' and 'e' the exponent\n",
    "def rExp(n, e):\n",
    "    \"\"\"Recursively computes n^e for non-negative exponents.\"\"\"\n",
    "    if e == 0:\n",
    "        return 1\n",
    "    else:\n",
    "        return n * rExp(n, e - 1)\n",
    "# Tests\n",
    "print(rExp(2,4))"
   ]
  },
  {
   "cell_type": "code",
   "execution_count": 23,
   "metadata": {},
   "outputs": [
    {
     "name": "stdout",
     "output_type": "stream",
     "text": [
      "10\n",
      "9\n",
      "8\n",
      "7\n",
      "6\n",
      "5\n",
      "4\n",
      "3\n",
      "2\n",
      "1\n",
      "0\n",
      "-10\n",
      "-9\n",
      "-8\n",
      "-7\n",
      "-6\n",
      "-5\n",
      "-4\n",
      "-3\n",
      "-2\n",
      "-1\n",
      "0\n"
     ]
    }
   ],
   "source": [
    "# Write a function using recursion to print numbers from n to 0. \n",
    "\n",
    "def rCountdown(n):\n",
    "    \"\"\"Prints the numbers from n to 0.\"\"\"\n",
    "    if n == 0:\n",
    "        print(0)\n",
    "    elif n > 0:\n",
    "        print(n)\n",
    "        rCountdown(n - 1)\n",
    "    else:\n",
    "        print(n)\n",
    "        rCountdown(n + 1)\n",
    "\n",
    "# Tests\n",
    "rCountdown(10)\n",
    "rCountdown(-10)"
   ]
  },
  {
   "cell_type": "code",
   "execution_count": 22,
   "metadata": {},
   "outputs": [
    {
     "name": "stdout",
     "output_type": "stream",
     "text": [
      "0\n",
      "1\n",
      "2\n",
      "3\n",
      "4\n",
      "5\n",
      "6\n",
      "7\n",
      "8\n",
      "9\n",
      "10\n",
      "0\n",
      "-1\n",
      "-2\n",
      "-3\n",
      "-4\n",
      "-5\n",
      "-6\n",
      "-7\n",
      "-8\n",
      "-9\n",
      "-10\n",
      "5\n",
      "6\n",
      "7\n",
      "8\n",
      "9\n",
      "10\n",
      "-5\n",
      "-6\n",
      "-7\n",
      "-8\n",
      "-9\n",
      "-10\n"
     ]
    }
   ],
   "source": [
    "###################################################\n",
    "#Write a function using recursion to print numbers from 0 to n\n",
    "###################################################\n",
    "def rCountup(n, j):\n",
    "    \"\"\"Counts up to n from j.\"\"\"\n",
    "    if j == n:\n",
    "        print(j)\n",
    "    elif j < n:\n",
    "        print(j)\n",
    "        rCountup(n, j + 1)\n",
    "    else:\n",
    "        print(j)\n",
    "        rCountup(n, j - 1)\n",
    "\n",
    "# Tests\n",
    "rCountup(10, 0)\n",
    "rCountup(-10, 0)\n",
    "rCountup(10, 5)\n",
    "rCountup(-10, -5)\n"
   ]
  },
  {
   "cell_type": "code",
   "execution_count": 30,
   "metadata": {},
   "outputs": [
    {
     "name": "stdout",
     "output_type": "stream",
     "text": [
      "omer\n"
     ]
    }
   ],
   "source": [
    "'''\n",
    "first try the non-recursive way\n",
    "'''\n",
    "def rev(s):\n",
    "    \"\"\"Returns a reversed copy of the string.\"\"\"\n",
    "    if len(s) <= 1:\n",
    "        return s\n",
    "    else:\n",
    "        return  s[0]+rev(s[1:]) \n",
    "print(rev('omer'))\n"
   ]
  },
  {
   "cell_type": "code",
   "execution_count": null,
   "metadata": {},
   "outputs": [],
   "source": []
  },
  {
   "cell_type": "code",
   "execution_count": 32,
   "metadata": {},
   "outputs": [
    {
     "name": "stdout",
     "output_type": "stream",
     "text": [
      "demha\n",
      "remo\n"
     ]
    }
   ],
   "source": [
    "def rReverseString(input):\n",
    "    \"\"\"Reverse the input string using recursion.\"\"\"\n",
    "    if len(input) <= 1:\n",
    "        return input\n",
    "    else:\n",
    "        return rReverseString(input[1:]) + input[0]\n",
    "\n",
    "# Tests\n",
    "print(rReverseString('ahmed'))\n",
    "print(rReverseString('omer'))"
   ]
  },
  {
   "cell_type": "markdown",
   "metadata": {},
   "source": [
    "---"
   ]
  },
  {
   "cell_type": "markdown",
   "metadata": {},
   "source": [
    "# Algorithms\n",
    "\n",
    "## 1) Sorting:\n",
    "Implement the selection sort algorithm"
   ]
  },
  {
   "cell_type": "code",
   "execution_count": 34,
   "metadata": {},
   "outputs": [
    {
     "name": "stdout",
     "output_type": "stream",
     "text": [
      "[1, 2, 3, 4, 5, 6]\n"
     ]
    }
   ],
   "source": [
    "def Selection_Sort(arr):\n",
    "    for i in range(0,len(arr)-1):\n",
    "        curr_min = i\n",
    "        for j in range(i+1 , len(arr)):\n",
    "            if arr[j] < arr[curr_min]:\n",
    "                curr_min = j\n",
    "        arr[i],arr[curr_min] = arr[curr_min],arr[i]\n",
    "arr = [2, 6, 5, 1, 3, 4]\n",
    "Selection_Sort(arr)\n",
    "print(arr)"
   ]
  },
  {
   "cell_type": "markdown",
   "metadata": {},
   "source": [
    "---\n",
    "\n",
    "## 2) Searching\n",
    "\n",
    "Implement linear searching algorithm with both; iterative and recursive ways"
   ]
  },
  {
   "cell_type": "markdown",
   "metadata": {},
   "source": [
    "#### iterative"
   ]
  },
  {
   "cell_type": "code",
   "execution_count": 36,
   "metadata": {},
   "outputs": [
    {
     "name": "stdout",
     "output_type": "stream",
     "text": [
      "Not Exist\n",
      "2\n"
     ]
    }
   ],
   "source": [
    "def LinearSearch (List , target):\n",
    "    for i in range(0,len(List)):\n",
    "        if List[i] == target:\n",
    "            return i \n",
    "    return \"Not Exist\"\n",
    "print(LinearSearch ([1,2,3,4,5],7))\n",
    "print(LinearSearch ([1,2,3,4,5],3))"
   ]
  },
  {
   "cell_type": "markdown",
   "metadata": {},
   "source": [
    "#### recursive"
   ]
  },
  {
   "cell_type": "code",
   "execution_count": 38,
   "metadata": {},
   "outputs": [
    {
     "name": "stdout",
     "output_type": "stream",
     "text": [
      "Not Exist\n",
      "4\n"
     ]
    }
   ],
   "source": [
    "def rLinearSearch(lst, target, index=0):\n",
    "    if index >= len(lst):\n",
    "        return \"Not Exist\"\n",
    "    if lst[index] == target:\n",
    "        return index\n",
    "    return rLinearSearch(lst, target, index + 1)\n",
    "print(LinearSearch([1, 2, 3, 4, 5], 7))\n",
    "print(LinearSearch([1, 2, 3, 4, 5], 5))"
   ]
  },
  {
   "cell_type": "markdown",
   "metadata": {},
   "source": [
    "---\n",
    "### Bonus \n",
    "**(You can search for these algorithms on the internet but you have to understand how they work, DON'T use Chatgpt!!!)**\n",
    "\n",
    "1) Implement buble and insertion sort algorithms\n",
    "2) Implement binary search algorithm"
   ]
  },
  {
   "cell_type": "markdown",
   "metadata": {},
   "source": [
    "#### Bubble Sort"
   ]
  },
  {
   "cell_type": "code",
   "execution_count": 41,
   "metadata": {},
   "outputs": [
    {
     "name": "stdout",
     "output_type": "stream",
     "text": [
      "[1, 2, 2, 3, 5, 6]\n"
     ]
    }
   ],
   "source": [
    "def bubble_sort(arr):\n",
    "    n = len(arr)\n",
    "    for i in range(n):\n",
    "        for j in range(0, n-i-1):\n",
    "            if arr[j] > arr[j+1]:\n",
    "                arr[j], arr[j+1] = arr[j+1], arr[j]\n",
    "    return arr\n",
    "\n",
    "print(bubble_sort([2, 6, 5, 1, 2, 3]))"
   ]
  },
  {
   "cell_type": "markdown",
   "metadata": {},
   "source": [
    "#### Insertion sort"
   ]
  },
  {
   "cell_type": "code",
   "execution_count": 40,
   "metadata": {},
   "outputs": [
    {
     "name": "stdout",
     "output_type": "stream",
     "text": [
      "[1, 2, 2, 3, 5, 6]\n"
     ]
    }
   ],
   "source": [
    "def Insertion_sort(arr):\n",
    "    for i in range(1, len(arr)):\n",
    "        j = i\n",
    "        while arr[j - 1] > arr[j] and j > 0:\n",
    "            arr[j - 1], arr[j] = arr[j], arr[j - 1]\n",
    "            j -= 1\n",
    "    return arr\n",
    "\n",
    "print(Insertion_sort([2, 6, 5, 1, 2, 3]))\n"
   ]
  },
  {
   "cell_type": "markdown",
   "metadata": {},
   "source": [
    "#### Binary Search"
   ]
  },
  {
   "cell_type": "code",
   "execution_count": 42,
   "metadata": {},
   "outputs": [
    {
     "name": "stdout",
     "output_type": "stream",
     "text": [
      "6\n"
     ]
    }
   ],
   "source": [
    "def binary_search(arr, target):\n",
    "    low = 0\n",
    "    high = len(arr) - 1\n",
    "\n",
    "    while low <= high:\n",
    "        mid = (low + high) // 2\n",
    "        if arr[mid] == target:\n",
    "            return mid\n",
    "        elif arr[mid] < target:\n",
    "            low = mid + 1\n",
    "        else:\n",
    "            high = mid - 1\n",
    "\n",
    "    return \"Not Exist\"\n",
    "\n",
    "arr = [1, 2, 3, 4, 5, 6, 7, 8, 9, 10]\n",
    "target = 7\n",
    "print(binary_search(arr, target)) \n"
   ]
  },
  {
   "cell_type": "code",
   "execution_count": null,
   "metadata": {},
   "outputs": [],
   "source": []
  }
 ],
 "metadata": {
  "kernelspec": {
   "display_name": "Python 3 (ipykernel)",
   "language": "python",
   "name": "python3"
  },
  "language_info": {
   "codemirror_mode": {
    "name": "ipython",
    "version": 3
   },
   "file_extension": ".py",
   "mimetype": "text/x-python",
   "name": "python",
   "nbconvert_exporter": "python",
   "pygments_lexer": "ipython3",
   "version": "3.9.13"
  }
 },
 "nbformat": 4,
 "nbformat_minor": 4
}
