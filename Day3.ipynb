{
 "cells": [
  {
   "cell_type": "markdown",
   "id": "32c7e520",
   "metadata": {
    "vscode": {
     "languageId": "plaintext"
    }
   },
   "source": [
    "### Question-1:\n",
    "Define a class called `Bike` that accepts a string and a float as input, and assigns those inputs respectively to two instance variables, `color` and `price`. and test them with two instances, the first has color blue and price is 89.99"
   ]
  },
  {
   "cell_type": "code",
   "execution_count": 1,
   "id": "9b8a4d02",
   "metadata": {},
   "outputs": [
    {
     "name": "stdout",
     "output_type": "stream",
     "text": [
      "Bike 1: Color = blue, Price = 89.99\n",
      "Bike 2: Color = black, Price = 300\n"
     ]
    }
   ],
   "source": [
    "class Bike:\n",
    "    def __init__(self, color, price):\n",
    "        self.color = color\n",
    "        self.price = price\n",
    "testOne = Bike('blue', 89.99)\n",
    "testTwo = Bike('black', 300) \n",
    "print(f\"Bike 1: Color = {testOne.color}, Price = {testOne.price}\")\n",
    "print(f\"Bike 2: Color = {testTwo.color}, Price = {testTwo.price}\")"
   ]
  },
  {
   "cell_type": "markdown",
   "id": "8cda2b82",
   "metadata": {},
   "source": [
    "---\n",
    "### Question-2\n",
    "\n",
    "Create a class called `AppleBasket` whose constructor accepts two inputs: a string representing a color, and a number representing a quantity of apples. The constructor should initialize two instance variables: `apple_color` and `apple_quantity`. Write a class method called `increase` that increases the quantity by `1` each time it is invoked. You should also write a __str__ method for this class that returns a string of format `\"A basket of [quantity goes here] [color goes here] apples.\"` e.g. `\"A basket of 4 red apples.\"` or `\"A basket of 50 blue apples.\"`"
   ]
  },
  {
   "cell_type": "code",
   "execution_count": 2,
   "id": "53ac28a2",
   "metadata": {},
   "outputs": [
    {
     "name": "stdout",
     "output_type": "stream",
     "text": [
      "A basket of 8 red apples.\n",
      "A basket of 9 red apples.\n"
     ]
    }
   ],
   "source": [
    "class AppleBasket:\n",
    "    def __init__(self, color, quantity):\n",
    "        self.apple_color = color\n",
    "        self.apple_quantity = quantity\n",
    "\n",
    "    def increase(self):\n",
    "        self.apple_quantity += 1\n",
    "\n",
    "    def __str__(self):\n",
    "        return f\"A basket of {self.apple_quantity} {self.apple_color} apples.\"\n",
    "\n",
    "val1 = AppleBasket('red', 8)\n",
    "print(val1)\n",
    "val1.increase()\n",
    "print(val1)"
   ]
  },
  {
   "cell_type": "markdown",
   "id": "7a9a1356",
   "metadata": {},
   "source": [
    "---\n",
    "\n",
    "## Question-3\n",
    "\n",
    "The class, `Pokemon`, is provided below and describes a Pokemon and its leveling and evolving characteristics. An instance of the class is one pokemon that you create.\n",
    "`Grass_Pokemon` is a subclass that inherits from `Pokemon` but changes some aspects, for instance, the boost values are different.\n",
    "For the subclass `Grass_Pokemon`, add another method called `action` that returns the string `\"[name of pkemon] knows a lot of different moves!\"`. Create an instance of this class with the `name` as `\"Belle\"`."
   ]
  },
  {
   "cell_type": "code",
   "execution_count": 3,
   "id": "5b2b4e90",
   "metadata": {},
   "outputs": [],
   "source": [
    "class Pokemon(object):\n",
    "    attack = 12\n",
    "    defense = 10\n",
    "    health = 15\n",
    "    p_type = \"Normal\"\n",
    "\n",
    "    def __init__(self, name, level = 5):\n",
    "        self.name = name\n",
    "        self.level = level\n",
    "\n",
    "    def train(self):\n",
    "        self.update()\n",
    "        self.attack_up()\n",
    "        self.defense_up()\n",
    "        self.health_up()\n",
    "        self.level = self.level + 1\n",
    "        if self.level%self.evolve == 0:\n",
    "            return self.level, \"Evolved!\"\n",
    "        else:\n",
    "            return self.level\n",
    "\n",
    "    def attack_up(self):\n",
    "        self.attack = self.attack + self.attack_boost\n",
    "        return self.attack\n",
    "\n",
    "    def defense_up(self):\n",
    "        self.defense = self.defense + self.defense_boost\n",
    "        return self.defense\n",
    "\n",
    "    def health_up(self):\n",
    "        self.health = self.health + self.health_boost\n",
    "        return self.health\n",
    "\n",
    "    def update(self):\n",
    "        self.health_boost = 5\n",
    "        self.attack_boost = 3\n",
    "        self.defense_boost = 2\n",
    "        self.evolve = 10\n",
    "\n",
    "    def __str__(self):\n",
    "        self.update()\n",
    "        return \"Pokemon name: {}, Type: {}, Level: {}\".format(self.name, self.p_type, self.level)"
   ]
  },
  {
   "cell_type": "code",
   "execution_count": 4,
   "id": "e1e703ba",
   "metadata": {},
   "outputs": [
    {
     "name": "stdout",
     "output_type": "stream",
     "text": [
      "Pokemon name: Belle, Type: Normal, Level: 5\n",
      "Belle knows a lot of different moves!\n"
     ]
    }
   ],
   "source": [
    "class Grass_Pokemon(Pokemon):\n",
    "    def update(self):\n",
    "        self.health_boost = 8\n",
    "        self.attack_boost = 2\n",
    "        self.defense_boost = 3\n",
    "        self.evolve = 16\n",
    "\n",
    "    def action(self):\n",
    "        return f\"{self.name} knows a lot of different moves!\"\n",
    "p1 = Grass_Pokemon('Belle')\n",
    "print(p1)\n",
    "print(p1.action())"
   ]
  },
  {
   "cell_type": "markdown",
   "id": "650d7b74",
   "metadata": {},
   "source": [
    "---\n",
    "\n",
    "## Question-4\n",
    "\n",
    "Modify the `\"Grass_Pokemon\"` subclass so that the attack strength for `\"Grass_Pokemon\"` instances does not change until they reach level 10. At level 10 and up, their attack strength should increase by the `\"attack_boost\"` amount when they are trained.\n",
    "\n",
    "To test, create an instance of the class with the name as `\"Bulby\"`. Create another instance of the `\"Grass_Pokemon\"` class with the name set to `\"Pika\"`. Then, use `\"Grass_Pokemon\"` methods to train the second instance until it reaches at least level 10.\n",
    "\n",
    "e.g;\n",
    "```\n",
    "p2 = Grass_Pokemon(\"Bulby\")\n",
    "p3 = Grass_Pokemon(\"Pika\")\n",
    "print(p2)\n",
    "print(p3)\n",
    "p3.train()\n",
    "```"
   ]
  },
  {
   "cell_type": "code",
   "execution_count": 5,
   "id": "20416d18",
   "metadata": {},
   "outputs": [],
   "source": [
    "class Grass_Pokemon(Pokemon):\n",
    "    def update(self):\n",
    "        self.health_boost = 8\n",
    "        self.attack_boost = 2\n",
    "        self.defense_boost = 3\n",
    "        self.evolve = 16\n",
    "\n",
    "    def attack_up(self):\n",
    "        if self.level >= 10:\n",
    "            self.attack = self.attack + self.attack_boost\n",
    "        return self.attack\n",
    "\n",
    "    def action(self):\n",
    "        return f\"{self.name} knows a lot of different moves!\""
   ]
  },
  {
   "cell_type": "code",
   "execution_count": 6,
   "id": "b55f070f",
   "metadata": {},
   "outputs": [
    {
     "name": "stdout",
     "output_type": "stream",
     "text": [
      "Pokemon name: Bulby, Type: Normal, Level: 5\n",
      "Pokemon name: Pika, Type: Normal, Level: 5\n",
      "Pokemon name: Pika, Type: Normal, Level: 6\n"
     ]
    }
   ],
   "source": [
    "p2 = Grass_Pokemon(\"Bulby\")\n",
    "p3 = Grass_Pokemon(\"Pika\")\n",
    "print(p2)\n",
    "print(p3)\n",
    "p3.train()\n",
    "print(p3)"
   ]
  },
  {
   "cell_type": "markdown",
   "id": "58ac5297",
   "metadata": {},
   "source": [
    "---\n",
    "## Question-5\n",
    "\n",
    "Along with the `Pokemon` parent class, we have also provided several subclasses. Write another method in the parent class that will be inherited by the subclasses. Call it `opponent` . It should return which type of `Pokemon` the current type is weak and strong against, as a tuple: \n",
    "* `Grass` is weak against `Fire` and strong against `Water`. \n",
    "* `Ghost` is weak against `Dark` and strong against `Psychic`. \n",
    "* `Fire` is weak against `Water` and strong against `Grass`. \n",
    "* `Flying` is weak against `Electric` and strong against `Fighting`. \n",
    "\n",
    "For example, if the `p_type` of the subclass is 'Grass' , `.opponent()` should return the tuple `('Fire', 'Water')` "
   ]
  },
  {
   "cell_type": "code",
   "execution_count": 16,
   "id": "fb3d858c",
   "metadata": {},
   "outputs": [
    {
     "name": "stdout",
     "output_type": "stream",
     "text": [
      "Pokemon name: Belly, Type: Grass, Level: 5\n",
      "('Fire', 'Water')\n"
     ]
    }
   ],
   "source": [
    "class Pokemon():\n",
    "    attack = 12\n",
    "    defense = 10\n",
    "    health = 15\n",
    "    p_type = \"Normal\"\n",
    "\n",
    "    def __init__(self, name, level=5):\n",
    "        self.name = name\n",
    "        self.level = level\n",
    "        self.weak = \"Normal\"\n",
    "        self.strong = \"Normal\"\n",
    "\n",
    "    def train(self):\n",
    "        self.update()\n",
    "        self.attack_up()\n",
    "        self.defense_up()\n",
    "        self.health_up()\n",
    "        self.level = self.level + 1\n",
    "        if self.level % self.evolve == 0:\n",
    "            return self.level, \"Evolved!\"\n",
    "        else:\n",
    "            return self.level\n",
    "\n",
    "    def attack_up(self):\n",
    "        self.attack = self.attack + self.attack_boost\n",
    "        return self.attack\n",
    "\n",
    "    def defense_up(self):\n",
    "        self.defense = self.defense + self.defense_boost\n",
    "        return self.defense\n",
    "\n",
    "    def health_up(self):\n",
    "        self.health = self.health + self.health_boost\n",
    "        return self.health\n",
    "\n",
    "    def update(self):\n",
    "        self.health_boost = 5\n",
    "        self.attack_boost = 3\n",
    "        self.defense_boost = 2\n",
    "        self.evolve = 10\n",
    "\n",
    "    def __str__(self):\n",
    "        self.update()\n",
    "        return \"Pokemon name: {}, Type: {}, Level: {}\".format(self.name, self.p_type, self.level)\n",
    "\n",
    "    def opponent(self):\n",
    "        weaknesses_and_strengths = {\n",
    "            \"Grass\": (\"Fire\", \"Water\"),\n",
    "            \"Ghost\": (\"Dark\", \"Psychic\"),\n",
    "            \"Fire\": (\"Water\", \"Grass\"),\n",
    "            \"Flying\": (\"Electric\", \"Fighting\")\n",
    "        }\n",
    "        return weaknesses_and_strengths.get(self.p_type, (\"None\", \"None\"))\n",
    "\n",
    "class Grass_Pokemon(Pokemon):\n",
    "    p_type = \"Grass\"\n",
    "    \n",
    "    def update(self):\n",
    "        self.health_boost = 6\n",
    "        self.attack_boost = 2\n",
    "        self.defense_boost = 3\n",
    "        self.evolve = 12\n",
    "\n",
    "    def attack_up(self):\n",
    "        if self.level >= 10:\n",
    "            self.attack = self.attack + self.attack_boost\n",
    "        return self.attack\n",
    "\n",
    "    def action(self):\n",
    "        return f\"{self.name} knows a lot of different moves!\"\n",
    "\n",
    "class Ghost_Pokemon(Pokemon):\n",
    "    p_type = \"Ghost\"\n",
    "    \n",
    "    def update(self):\n",
    "        self.health_boost = 4\n",
    "        self.attack_boost = 4\n",
    "        self.defense_boost = 3\n",
    "        self.evolve = 10\n",
    "\n",
    "class Fire_Pokemon(Pokemon):\n",
    "    p_type = \"Fire\"\n",
    "    \n",
    "    def update(self):\n",
    "        self.health_boost = 5\n",
    "        self.attack_boost = 5\n",
    "        self.defense_boost = 2\n",
    "        self.evolve = 10\n",
    "\n",
    "class Flying_Pokemon(Pokemon):\n",
    "    p_type = \"Flying\"\n",
    "    \n",
    "    def update(self):\n",
    "        self.health_boost = 5\n",
    "        self.attack_boost = 3\n",
    "        self.defense_boost = 4\n",
    "        self.evolve = 10\n",
    "\n",
    "p1 = Grass_Pokemon(\"Belly\")\n",
    "\n",
    "print(p1)\n",
    "print(p1.opponent())\n"
   ]
  }
 ],
 "metadata": {
  "kernelspec": {
   "display_name": "Python 3 (ipykernel)",
   "language": "python",
   "name": "python3"
  },
  "language_info": {
   "codemirror_mode": {
    "name": "ipython",
    "version": 3
   },
   "file_extension": ".py",
   "mimetype": "text/x-python",
   "name": "python",
   "nbconvert_exporter": "python",
   "pygments_lexer": "ipython3",
   "version": "3.9.13"
  }
 },
 "nbformat": 4,
 "nbformat_minor": 5
}
