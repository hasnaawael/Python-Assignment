{
 "cells": [
  {
   "cell_type": "markdown",
   "id": "549348c4",
   "metadata": {},
   "source": [
    "# Collections, loops and if-conditions:"
   ]
  },
  {
   "cell_type": "code",
   "execution_count": 7,
   "id": "8ee32227",
   "metadata": {},
   "outputs": [
    {
     "name": "stdout",
     "output_type": "stream",
     "text": [
      "False\n",
      "False\n",
      "True\n"
     ]
    }
   ],
   "source": [
    "L = [[5, 8, 7], ['hello', 'hi', 'hola'], [6.6, 1.54, 3.99], ['small', 'large']]\n",
    "\n",
    "# Test if 'hola' is in the list L. Save to variable name test1\n",
    "for i in L:\n",
    "    if 'hola' in i:\n",
    "        test1 = True\n",
    "    else:\n",
    "        test1 = False\n",
    "print(test1)  \n",
    "\n",
    "# Test if [5, 8, 7] is in the list L. Save to variable name test2\n",
    "for j in L:\n",
    "    if j == [5, 8, 7]:\n",
    "        test2 = True\n",
    "    else:\n",
    "        test2 = False\n",
    "print(test2) \n",
    "\n",
    "# Test if 6.6 is in the third element of list L. Save to variable name test3\n",
    "test3 = 6.6 in L[2]\n",
    "print(test3)"
   ]
  },
  {
   "cell_type": "code",
   "execution_count": 15,
   "id": "80c593b0",
   "metadata": {},
   "outputs": [
    {
     "name": "stdout",
     "output_type": "stream",
     "text": [
      "False\n",
      "False\n",
      "False\n",
      "False\n"
     ]
    }
   ],
   "source": [
    "nested = {'data': ['finding', 23, ['exercises', 'hangout', 34]], 'window': ['part', 'whole', [], 'sum', ['math', 'calculus', 'algebra', 'geometry', 'statistics',\n",
    "                                                                                                         ['physics', 'chemistry', 'biology']]]}\n",
    "# Check to see if the string data is a key in nested, if it is, assign True to the variable data, otherwise assign False.\n",
    "for key in nested.keys():\n",
    "    if key == 'data':\n",
    "        data = True\n",
    "    else:\n",
    "        data = False\n",
    "print(data)\n",
    "\n",
    "# Check to see if the integer 24 is in the value of the key data, if it is then assign to the variable twentyfour the value of True, otherwise False.\n",
    "for value in nested.get('data', []):\n",
    "    if value == 24:\n",
    "        twentyfour = True\n",
    "    else :\n",
    "        twentyfour = False\n",
    "print(twentyfour)\n",
    "\n",
    "# Check to see that the string 'whole' is not in the value of the key window. If it's not, then assign to the variable whole the value of True, otherwise False.\n",
    "for value in nested.get('window', []):\n",
    "    if value == 'whole':\n",
    "        whole = True\n",
    "    else:\n",
    "        whole = False\n",
    "print(whole)\n",
    "\n",
    "# Check to see if the string 'physics' is a key in the dictionary nested. If it is, assign to the variable physics, the value of True, otherwise False.\n",
    "for key in nested.keys():\n",
    "    if key == 'physics':\n",
    "        physics = True\n",
    "    else:\n",
    "        physics = False\n",
    "print(physics)\n",
    "\n",
    "# Output\n",
    "# False\n",
    "# False\n",
    "# False"
   ]
  },
  {
   "cell_type": "code",
   "execution_count": 16,
   "id": "2515ded0",
   "metadata": {},
   "outputs": [
    {
     "name": "stdout",
     "output_type": "stream",
     "text": [
      "backstroke\n",
      "platform\n",
      "['vault', 'floor', 'uneven bars', 'balance beam']\n",
      "rings\n"
     ]
    }
   ],
   "source": [
    "sports = {'swimming': ['butterfly', 'breaststroke', 'backstroke', 'freestyle'], 'diving': ['springboard', 'platform', 'synchronized'], \n",
    "          'track': ['sprint', 'distance', 'jumps', 'throws'], 'gymnastics': {'women':['vault', 'floor', 'uneven bars', 'balance beam'], \n",
    "                                                                             'men': ['vault', 'parallel bars', 'floor', 'rings']}}\n",
    "\n",
    "# Assign the string 'backstroke' to the variable name v1\n",
    "v1 = sports['swimming'][2]\n",
    "print(v1)\n",
    "\n",
    "# Assign the string 'platform' to the variable name v2\n",
    "v2 = sports['diving'][1]\n",
    "print(v2)\n",
    "\n",
    "# Assign the list ['vault', 'floor', 'uneven bars', 'balance beam'] to the variable name v3\n",
    "v3 = sports['gymnastics']['women']\n",
    "print(v3)\n",
    "\n",
    "# Assign the string 'rings' to the variable name v4\n",
    "v4 = sports['gymnastics']['men'][3]\n",
    "print(v4)\n",
    "\n",
    "# Output\n",
    "# backstroke\n",
    "# platform\n",
    "# ['vault', 'floor', 'uneven bars', 'balance beam']\n",
    "# rings\n"
   ]
  },
  {
   "cell_type": "code",
   "execution_count": 19,
   "id": "da9948f1",
   "metadata": {},
   "outputs": [
    {
     "name": "stdout",
     "output_type": "stream",
     "text": [
      "[36, 46, 35]\n"
     ]
    }
   ],
   "source": [
    "# Given the dictionary `nested_d`, save the medal count for the USA from all three Olympics in the dictionary to the list `us_count`\n",
    "\n",
    "nested_d = {'Beijing':{'China':51, 'USA':36, 'Russia':22, 'Great Britain':19}, 'London':{'USA':46, 'China':38, 'Great Britain':29, 'Russia':22}, \n",
    "            'Rio':{'USA':35, 'Great Britain':22, 'China':20, 'Germany':13}}\n",
    "us_count = []\n",
    "for i in nested_d.values():\n",
    "    if 'USA' in i:\n",
    "        us_count.append(i['USA'])\n",
    "print(us_count) \n",
    "# OUtput \n",
    "# [36, 46, 35]"
   ]
  },
  {
   "cell_type": "code",
   "execution_count": 20,
   "id": "3fd6f734",
   "metadata": {},
   "outputs": [
    {
     "name": "stdout",
     "output_type": "stream",
     "text": [
      "[36, 46, 35]\n"
     ]
    }
   ],
   "source": [
    "# The same as before but figure out what is the difference and how to do it!!!\n",
    "\n",
    "\n",
    "nested_d = {'Beijing':[('China', 51), ('USA', 36), ('Russia', 22), ('Great Britain', 19)], 'London':{'USA':46, 'China':38, 'Great Britain':29, 'Russia':22}, \n",
    "            'Rio':\"\"\"USA=35, Great_Britain=22, China=20, Germany=13\"\"\"}\n",
    "\n",
    "us_count = []\n",
    "for olympics in nested_d.values():\n",
    "    if isinstance(olympics, list):\n",
    "        for country, count in olympics:\n",
    "            if country == 'USA':\n",
    "                us_count.append(count)\n",
    "    elif isinstance(olympics, dict):\n",
    "        if 'USA' in olympics:\n",
    "            us_count.append(olympics['USA'])\n",
    "    elif isinstance(olympics, str):\n",
    "        medals = olympics.split(', ')\n",
    "        for medal in medals:\n",
    "            country, count = medal.split('=')\n",
    "            if country == 'USA':\n",
    "                us_count.append(int(count))\n",
    "\n",
    "# Output the result\n",
    "print(us_count)"
   ]
  },
  {
   "cell_type": "code",
   "execution_count": 21,
   "id": "4a71a5a8",
   "metadata": {},
   "outputs": [
    {
     "name": "stdout",
     "output_type": "stream",
     "text": [
      "['Lochte', 'Bolt', 'Eaton', 'Dalton']\n",
      "['Phelps', 'Schooling', 'Ledecky', 'Franklin', 'Felix', 'Gardner', 'Biles', 'Douglas', 'Hamm', 'Raisman', 'Mikulak']\n"
     ]
    }
   ],
   "source": [
    "# Given below is a list of lists of athletes. Create a list `t`, that saves only the athlete's name if it contains the letter \"t\"\n",
    "# If it doesn't contain the letter \"t\", save the athlete name into list `other`.\n",
    "athletes = [['Phelps', 'Lochte', 'Schooling', 'Ledecky', 'Franklin'], ['Felix', 'Bolt', 'Gardner', 'Eaton'], ['Biles', 'Douglas', 'Hamm', 'Raisman', 'Mikulak', 'Dalton']]\n",
    "\n",
    "t = []\n",
    "other = []\n",
    "for lists in athletes:\n",
    "    for athlete in lists:\n",
    "        if 't' in athlete.lower():\n",
    "            t.append(athlete)  \n",
    "        else:\n",
    "            other.append(athlete)\n",
    "print(t)     \n",
    "print(other)\n",
    "# output\n",
    "# ['Lochte', 'Bolt', 'Eaton', 'Dalton']\n",
    "# ['Phelps', 'Schooling', 'Ledecky', 'Franklin', 'Felix', 'Gardner', 'Biles', 'Douglas', 'Hamm', 'Raisman', 'Mikulak']\n"
   ]
  },
  {
   "cell_type": "markdown",
   "id": "10a4e967",
   "metadata": {},
   "source": [
    "## Let's level up\n",
    "* List comprehension and lambda function\n",
    "* functional programming (map, filter, reduce)"
   ]
  },
  {
   "cell_type": "code",
   "execution_count": 1,
   "id": "e84d6938",
   "metadata": {},
   "outputs": [
    {
     "name": "stdout",
     "output_type": "stream",
     "text": [
      "['Fruit: plums', 'Fruit: watermelon', 'Fruit: kiwi', 'Fruit: strawberries', 'Fruit: blueberries', 'Fruit: peaches', 'Fruit: apples', 'Fruit: mangos', 'Fruit: papaya']\n"
     ]
    }
   ],
   "source": [
    "# Write code to assign to the variable map_testing all the elements in lst_check \n",
    "# while adding the string \"Fruit\" to the beginning of each element usig mapping and lambda function\n",
    "lst_check = ['plums', 'watermelon', 'kiwi', 'strawberries', 'blueberries', 'peaches', 'apples', 'mangos', 'papaya']\n",
    "mapping = list(map(lambda x: \"Fruit: \" + x, lst_check))\n",
    "print(mapping)\n",
    "\n",
    "# output:\n",
    "# ['Fruit: plums', 'Fruit: watermelon', 'Fruit: kiwi', 'Fruit: strawberries', 'Fruit: blueberries', 'Fruit: peaches', \n",
    "# 'Fruit: apples', 'Fruit: mangos', 'Fruit: papaya']"
   ]
  },
  {
   "cell_type": "code",
   "execution_count": 2,
   "id": "3d6b5f05",
   "metadata": {},
   "outputs": [
    {
     "name": "stdout",
     "output_type": "stream",
     "text": [
      "['Brazil', 'Botswana', 'Britain', 'Bangladesh', 'Belarus', 'Belgium']\n"
     ]
    }
   ],
   "source": [
    "# Below, a list of countries, Use filter to produce a list called b_countries that only contains strings from countries list that begin with B\n",
    "countries = ['Canada', 'Mexico', 'Brazil', 'Chile', 'Denmark', 'Botswana', 'Spain', 'Britain', 'Portugal', 'Russia', 'Thailand', 'Bangladesh', 'Nigeria', \n",
    "             'Argentina', 'Belarus', 'Laos', 'Australia', 'Panama', 'Egypt', 'Morocco', 'Switzerland', 'Belgium']\n",
    "countries = list(filter(lambda country: country.startswith('B'), countries))\n",
    "print(countries)\n",
    "# Output\n",
    "# ['Brazil', 'Botswana', 'Britain', 'Bangladesh', 'Belarus', 'Belgium']"
   ]
  },
  {
   "cell_type": "code",
   "execution_count": 3,
   "id": "96ad3d92",
   "metadata": {},
   "outputs": [
    {
     "name": "stdout",
     "output_type": "stream",
     "text": [
      "['Jon', 'Cersei', 'Arya', 'Robb', 'Jamie', 'Daenerys', 'Sansa', 'Margaery', 'Eddard', 'Tyrion', 'Joffrey', 'Ramsey', 'Peter']\n"
     ]
    }
   ],
   "source": [
    "# Below, a list of tuples contain the names of Game of Thrones characters. Using list comprehension, create a list of strings called \n",
    "# `first_names` that contains only the first names of everyone in the original list\n",
    "people = [('Snow', 'Jon'), ('Lannister', 'Cersei'), ('Stark', 'Arya'), ('Stark', 'Robb'), ('Lannister', 'Jamie'), ('Targaryen', 'Daenerys'), ('Stark', 'Sansa'), \n",
    "          ('Tyrell', 'Margaery'), ('Stark', 'Eddard'), ('Lannister', 'Tyrion'), ('Baratheon', 'Joffrey'), ('Bolton', 'Ramsey'), ('Baelish', 'Peter')]\n",
    "names = []\n",
    "for i , j in people:\n",
    "    names.append(j)\n",
    "print(names)\n",
    "# Output\n",
    "# ['Jon', 'Cersei', 'Arya', 'Robb', 'Jamie', 'Daenerys', 'Sansa', 'Margaery', 'Eddard', 'Tyrion', 'Joffrey', 'Ramsey', 'Peter']\n"
   ]
  },
  {
   "cell_type": "code",
   "execution_count": 5,
   "id": "3e6c1ef1",
   "metadata": {},
   "outputs": [
    {
     "name": "stdout",
     "output_type": "stream",
     "text": [
      "['Tommy', 'Carl', 'Bob', 'Sue']\n"
     ]
    }
   ],
   "source": [
    "# Below, a list of tuples that contain students' names and their final grades, Using list comprehension, create a new list `passed`\n",
    "# that contains the names of students who passed the class (had a final grade of 70 or greater)\n",
    "students = [('Tommy', 95), ('Linda', 63), ('Carl', 70), ('Bob', 100), ('Raymond', 50), ('Sue', 75)]\n",
    "passed = []\n",
    "for name, grade in students:\n",
    "    if grade >= 70:\n",
    "        passed.append(name)\n",
    "print(passed)\n",
    "# OUtput\n",
    "# ['Tommy', 'Carl', 'Bob', 'Sue']"
   ]
  },
  {
   "cell_type": "code",
   "execution_count": 6,
   "id": "3111d218",
   "metadata": {},
   "outputs": [
    {
     "name": "stdout",
     "output_type": "stream",
     "text": [
      "[('left', 'right'), ('front', 'back')]\n"
     ]
    }
   ],
   "source": [
    "# Write code using zip and filter so that these lists (l1, l2) are combined into one big list and assigned \n",
    "# to the variable `opposites` if they are both longer than 3 characters each.\n",
    "l1 = ['left', 'up', 'front']\n",
    "l2 = ['right', 'down', 'back']\n",
    "opposit = list(filter(lambda pair: len(pair[0]) > 3 and len(pair[1]) > 3, zip(l1, l2)))\n",
    "print(opposit)\n",
    "# output\n",
    "# [('left', 'right'), ('front', 'back')]\n"
   ]
  },
  {
   "cell_type": "code",
   "execution_count": 7,
   "id": "beb5ff94",
   "metadata": {},
   "outputs": [
    {
     "name": "stdout",
     "output_type": "stream",
     "text": [
      "pop_info --> [('golden retriever', 10000), ('white tailed deer', 90000), ('black rhino', 1000), ('brown squirrel', 2000000), ('field mouse', 500000), ('orangutan', 500), ('sumatran elephant', 1200), ('rainbow trout', 8000), ('black bear', 12000), ('blue whale', 2300), ('water moccasin', 7500), ('giant panda', 100), ('green turtle', 1800), ('blue jay', 9500), ('japanese beetle', 125000)]\n",
      "endangered --> ['black rhino', 'orangutan', 'sumatran elephant', 'blue whale', 'giant panda', 'green turtle']\n"
     ]
    }
   ],
   "source": [
    "# Below two lists `species` and `population`. Use zip to combine these lists into one list of tuples called `pop_info`\n",
    "# From this list, create a new list called `endangered` that contains the names of specis whose populations are below 2500\n",
    "\n",
    "\n",
    "species = ['golden retriever', 'white tailed deer', 'black rhino', 'brown squirrel', 'field mouse', 'orangutan', 'sumatran elephant', 'rainbow trout', 'black bear', \n",
    "           'blue whale', 'water moccasin', 'giant panda', 'green turtle', 'blue jay', 'japanese beetle']\n",
    "population = [10000, 90000, 1000, 2000000, 500000, 500, 1200, 8000, 12000, 2300, 7500, 100, 1800, 9500, 125000]\n",
    "pop_info = []\n",
    "for specie, pop in zip(species, population):\n",
    "    pop_info.append((specie, pop))\n",
    "\n",
    "endangered = []\n",
    "for specie, pop in pop_info:\n",
    "    if pop < 2500:\n",
    "        endangered.append(specie)\n",
    "print(\"pop_info -->\", pop_info)\n",
    "print(\"endangered -->\", endangered)\n",
    "# Output\n",
    "# pop_info -->  [('golden retriever', 10000), ('white tailed deer', 90000), ('black rhino', 1000), ('brown squirrel', 2000000), ('field mouse', 500000), ('orangutan', 500), ('sumatran elephant', 1200), ('rainbow trout', 8000), ('black bear', 12000), ('blue whale', 2300), ('water moccasin', 7500), ('giant panda', 100), ('green turtle', 1800), ('blue jay', 9500), ('japanese beetle', 125000)]\n",
    "# endangered --> ['black rhino', 'orangutan', 'sumatran elephant', 'blue whale', 'giant panda', 'green turtle']"
   ]
  },
  {
   "cell_type": "markdown",
   "id": "08f21076",
   "metadata": {},
   "source": [
    "---\n",
    "\n",
    "# Functions:\n",
    "\n",
    "### Question-1\n",
    "Write a function called check_nums that takes a list as its parameter, and contains a while loop that only stops once the element of the\n",
    "list is the number 7. What is returned is a list of all of the numbers up until it reaches 7.\n",
    "\n",
    "e.g; \\\n",
    "print(check_nums([0,2,4,9,2,3,6,8,12,14,7,9,10,8,3])) ==> [0, 2, 4, 9, 2, 3, 6, 8, 12, 14]"
   ]
  },
  {
   "cell_type": "code",
   "execution_count": 8,
   "id": "df27b02f",
   "metadata": {},
   "outputs": [
    {
     "name": "stdout",
     "output_type": "stream",
     "text": [
      "[0, 2, 4, 9, 2, 3, 6, 8, 12, 14]\n"
     ]
    }
   ],
   "source": [
    "def check_nums(l):\n",
    "    nums = []\n",
    "    i = 0\n",
    "    while i < len(l) and l[i] != 7:\n",
    "        nums.append(l[i])\n",
    "        i += 1\n",
    "    return nums\n",
    "print(check_nums([0, 2, 4, 9, 2, 3, 6, 8, 12, 14, 7, 9, 10, 8, 3]))"
   ]
  },
  {
   "cell_type": "markdown",
   "id": "93cde3bf",
   "metadata": {},
   "source": [
    "### Question-2\n",
    "Write a function, test, that takes in three parameters: a required integer, an optional boolean whose default value is True, and an \n",
    "optional dictionary, called dict1, whose default value is {2:3, 4:5, 6:8}. If the boolean parameter is True, the function should test to\n",
    "see if the integer is a key in the dictionary. The value of that key should then be returned. If the boolean parameter is False, return \n",
    "the boolean value “False”.\n",
    "\n",
    "e.g;   \n",
    "print(test(2)) ==> 3 \\\n",
    "print(test(4,False)) ==> False"
   ]
  },
  {
   "cell_type": "code",
   "execution_count": 12,
   "id": "a35ee0dd",
   "metadata": {},
   "outputs": [
    {
     "name": "stdout",
     "output_type": "stream",
     "text": [
      "3\n",
      "False\n"
     ]
    }
   ],
   "source": [
    "def test(integer, boolean=True, dict1={2:3, 4:5, 6:8}):\n",
    "    if boolean:\n",
    "        if integer in dict1:\n",
    "            return dict1[integer]\n",
    "    else:\n",
    "        return False\n",
    "print(test(2)) \n",
    "print(test(4,False))"
   ]
  },
  {
   "cell_type": "markdown",
   "id": "4f38c63c",
   "metadata": {},
   "source": [
    "### Question-3:\n",
    "Write a function called `checkingIfIn` that takes three parameters. The first is a required parameter, which should be a string. The second\n",
    "is an optional parameter called `direction` with a default value of True. The third is an optional parameter called d that has a default \n",
    "value of {'apple': 2, 'pear': 1, 'fruit': 19, 'orange': 5, 'banana': 3, 'grapes': 2, 'watermelon': 7}. Write the function checkingIfIn \n",
    "so that when the second parameter is True, it checks to see if the first parameter is a key in the third parameter; if it is, return\n",
    "True, otherwise return False.\n",
    "But if the second paramter is False, then the function should check to see if the first parameter is not a key of the third. If it’s not,\n",
    "the function should return True in this case, and if it is, it should return False.\n",
    "\n",
    "e.g; \\\n",
    "print(checkingIfIn('grapes')) # True"
   ]
  },
  {
   "cell_type": "code",
   "execution_count": 13,
   "id": "8d14c16e",
   "metadata": {},
   "outputs": [
    {
     "name": "stdout",
     "output_type": "stream",
     "text": [
      "True\n"
     ]
    }
   ],
   "source": [
    "def checkingIfIn(string, direction=True, d={'apple': 2, 'pear': 1, 'fruit': 19, 'orange': 5, 'banana': 3, 'grapes': 2, 'watermelon': 7}):\n",
    "    if direction:\n",
    "        return string in d\n",
    "    else:\n",
    "        return string not in d\n",
    "print(checkingIfIn('grapes')) "
   ]
  },
  {
   "cell_type": "markdown",
   "id": "cd30c4d5",
   "metadata": {},
   "source": [
    "---\n",
    "\n",
    "# File Handling\n",
    "\n",
    "Here are three lists of texts; write them to files `travel_plans.txt`, `emotion_words.txt` and `school_prompt.txt`"
   ]
  },
  {
   "cell_type": "code",
   "execution_count": 14,
   "id": "90378c45",
   "metadata": {},
   "outputs": [],
   "source": [
    "fileref = open(\"travel_plans.txt\", \"w\")\n",
    "lis1=['This summer I will be travelling.\\n', 'I will go to...\\n', 'Italy: Rome\\n', 'Greece: Athens\\n', 'England: London, Manchester\\n', 'France: Paris, Nice, Lyon\\n', \n",
    "     'Spain: Madrid, Barcelona, Granada\\n', 'Austria: Vienna\\n', 'I will probably not even want to come back!\\n',\n",
    "     'However, I wonder how I will get by with all the different languages.\\n', 'I only know English!\\n']\n",
    "for lines in lis1:\n",
    "  fileref.write(lines)\n",
    "\n",
    "fileref.close()"
   ]
  },
  {
   "cell_type": "code",
   "execution_count": 30,
   "id": "cb23ba2e",
   "metadata": {},
   "outputs": [],
   "source": [
    "# file name ---> \"emotion_words.txt\"\n",
    "file1 = open(\"emotion_words.txt\", \"w\")\n",
    "lis2=['Sad upset blue down melancholy somber bitter troubled\\n', 'Angry mad enraged irate irritable wrathful outraged infuriated\\n',\n",
    "     'Happy cheerful content elated joyous delighted lively glad\\n', 'Confused disoriented puzzled perplexed dazed befuddled\\n', \n",
    "     'Excited eager thrilled delighted\\n','Scared afraid fearful panicked terrified petrified startled\\n', \n",
    "     'Nervous anxious jittery jumpy tense uneasy apprehensive\\n']\n",
    "# Do as before\n",
    "for lines in lis2:\n",
    "    file1.write(lines)\n",
    "file1.close()"
   ]
  },
  {
   "cell_type": "code",
   "execution_count": 31,
   "id": "ca006938",
   "metadata": {},
   "outputs": [
    {
     "name": "stdout",
     "output_type": "stream",
     "text": [
      "Sad upset blue down melancholy somber bitter troubled\n",
      "Angry mad enraged irate irritable wrathful outraged infuriated\n",
      "Happy cheerful content elated joyous delighted lively glad\n",
      "Confused disoriented puzzled perplexed dazed befuddled\n",
      "Excited eager thrilled delighted\n",
      "Scared afraid fearful panicked terrified petrified startled\n",
      "Nervous anxious jittery jumpy tense uneasy apprehensive\n",
      "\n"
     ]
    }
   ],
   "source": [
    "# Reading from \"emotion_words.txt\" and storing words in a list\n",
    "file1 = open(\"emotion_words.txt\", \"r\")\n",
    "content2 = file1.read()\n",
    "file1.close()\n",
    "print(content2)"
   ]
  },
  {
   "cell_type": "code",
   "execution_count": 32,
   "id": "7d606c52",
   "metadata": {},
   "outputs": [],
   "source": [
    "# file name ---> \"school_prompt.txt\"\n",
    "file2 = open(\"school_prompt.txt\", \"w\")\n",
    "lis3=['Writing essays for school can be difficult but\\n', 'many students find that by researching their topic that they\\n', \n",
    "     'have more to say and are better informed. Here are the university\\n', 'we require many undergraduate students to take a first year writing requirement\\n', \n",
    "     'so that they can\\n', 'have a solid foundation for their writing skills. This comes\\n', 'in handy for many students.\\n',\n",
    "     'Different schools have different requirements, but everyone uses\\n', 'writing at some point in their academic career, be it essays, research papers,\\n',\n",
    "     'technical write ups, or scripts.\\n']\n",
    "# Do as before\n",
    "for lines in lis3:\n",
    "    file2.write(lines)\n",
    "file2.close()"
   ]
  },
  {
   "cell_type": "code",
   "execution_count": 33,
   "id": "d69bb348",
   "metadata": {},
   "outputs": [
    {
     "name": "stdout",
     "output_type": "stream",
     "text": [
      "Writing essays for school can be difficult but\n",
      "many students find that by researching their topic that they\n",
      "have more to say and are better informed. Here are the university\n",
      "we require many undergraduate students to take a first year writing requirement\n",
      "so that they can\n",
      "have a solid foundation for their writing skills. This comes\n",
      "in handy for many students.\n",
      "Different schools have different requirements, but everyone uses\n",
      "writing at some point in their academic career, be it essays, research papers,\n",
      "technical write ups, or scripts.\n",
      "\n"
     ]
    }
   ],
   "source": [
    "file2 = open(\"school_prompt.txt\", \"r\")\n",
    "content3 = file2.read()\n",
    "file2.close()\n",
    "print(content3)"
   ]
  },
  {
   "cell_type": "code",
   "execution_count": 34,
   "id": "2e21e583",
   "metadata": {},
   "outputs": [
    {
     "name": "stdout",
     "output_type": "stream",
     "text": [
      "num: 316\n"
     ]
    }
   ],
   "source": [
    "# Question-1\n",
    "\n",
    "# The textfile, `travel_plans.txt`, contains the summer travel plans for someone with some commentary. \n",
    "# fine the total number of characters in the file and save to variable `num`.\n",
    "fileref = open(\"travel_plans.txt\", \"r\")\n",
    "content = fileref.read()\n",
    "num = len(content)\n",
    "fileref.close()\n",
    "print(\"num:\", num)\n",
    "# output; num: 316\n"
   ]
  },
  {
   "cell_type": "code",
   "execution_count": 35,
   "id": "e4db8fc1",
   "metadata": {},
   "outputs": [
    {
     "name": "stdout",
     "output_type": "stream",
     "text": [
      "num_words: 48\n"
     ]
    }
   ],
   "source": [
    "# Question-2\n",
    "\n",
    "# The textfile `emotion_words.txt` that contains lines of words that describe emotions.\n",
    "# Find the total number of words in the file and assign this value to the variable `num_words`.\n",
    "# Open the file for reading\n",
    "fileref = open(\"emotion_words.txt\", \"r\")\n",
    "content2 = fileref.read()\n",
    "words = content2.split()\n",
    "num_words = len(words)\n",
    "fileref.close()\n",
    "print(\"num_words:\", num_words)\n",
    "\n",
    "# Output; num_words: 48"
   ]
  },
  {
   "cell_type": "code",
   "execution_count": 36,
   "id": "e96e536c",
   "metadata": {},
   "outputs": [
    {
     "name": "stdout",
     "output_type": "stream",
     "text": [
      "num_lines: 11\n"
     ]
    }
   ],
   "source": [
    "# Question-3\n",
    "\n",
    "# Assign to the variable `num_lines` the number of lines in the file `school_prompt.txt`\n",
    "fileref = open(\"school_prompt.txt\", \"r\")\n",
    "content3 = fileref.read()\n",
    "lines = content3.split(\"\\n\")\n",
    "num_lines = len(lines)\n",
    "fileref.close()\n",
    "print(\"num_lines:\", num_lines)\n",
    "\n",
    "# Output num_lines: 10"
   ]
  },
  {
   "cell_type": "code",
   "execution_count": 39,
   "id": "61644515",
   "metadata": {},
   "outputs": [
    {
     "name": "stdout",
     "output_type": "stream",
     "text": [
      "beginning_chars: Writing essays for school can \n"
     ]
    }
   ],
   "source": [
    "# Question-4\n",
    "\n",
    "# Assign the first 30 characters of `school_prompt.txt` as a string to the variable `beginning_chars`\n",
    "# Open the file for reading\n",
    "file2 = open(\"school_prompt.txt\", \"r\")\n",
    "# Read the first 30 characters of the file\n",
    "beginning_chars = file2.read(30)\n",
    "file2.close()\n",
    "print(\"beginning_chars:\", beginning_chars)\n",
    "# output\n",
    "# beginning_chars: Writing  essays for school can"
   ]
  },
  {
   "cell_type": "code",
   "execution_count": 40,
   "id": "3408ba16",
   "metadata": {},
   "outputs": [
    {
     "name": "stdout",
     "output_type": "stream",
     "text": [
      "['for', 'find', 'to', 'many', 'they', 'solid', 'for', 'have', 'some', 'ups,']\n"
     ]
    }
   ],
   "source": [
    "# Question-5\n",
    "# Using the file `school_prompt.txt`, assign the third word of every line to a list called `three`.\n",
    "fileref = open(\"school_prompt.txt\", \"r\")\n",
    "three = []\n",
    "content = fileref.readlines()\n",
    "for line in content:\n",
    "    words = line.split() \n",
    "    if len(words) >= 3:  \n",
    "        third_word = words[2]  \n",
    "        three.append(third_word) \n",
    "fileref.close()\n",
    "print(three)\n",
    "\n",
    "# OUtput\n",
    "# ['for', 'find', 'to', 'many', 'they', 'solid', 'for', 'have', 'some', 'ups,']"
   ]
  },
  {
   "cell_type": "code",
   "execution_count": 41,
   "id": "cbe6db28",
   "metadata": {},
   "outputs": [
    {
     "name": "stdout",
     "output_type": "stream",
     "text": [
      "['topic', 'point', 'papers,', 'ups,', 'scripts.']\n"
     ]
    }
   ],
   "source": [
    "# Question-6\n",
    "\n",
    "# in file `school_prompt.txt`, check for every word in the file and append the words that contains the letter `p` to the list of name `p_words`\n",
    "# then loop over each word in the list, if it ends with `\\n` then remove its end; e.g topic\\n ==> topic\n",
    "fileref = open(\"school_prompt.txt\", \"r\")\n",
    "content = fileref.read()\n",
    "words = content.split()\n",
    "\n",
    "p_words = []\n",
    "for word in words:\n",
    "    if 'p' in word:\n",
    "        p_words.append(word)\n",
    "fileref.close()\n",
    "p_words = [word.rstrip(\"\\n\") for word in p_words]\n",
    "print(p_words)\n",
    "# OUtput\n",
    "# ['topic', 'point', 'papers,', 'ups,', 'scripts.']\n"
   ]
  },
  {
   "cell_type": "markdown",
   "id": "89118c1b",
   "metadata": {},
   "source": [
    "---\n",
    "\n",
    "# Excption Handling; Try/Except\n",
    "\n",
    "\n",
    "### 1) Question-1\n",
    "\n",
    "The following code tries to append the third element of each list in `conts` to the new list `third_countries`. Currently, the code does not work. Add a try/except clause so the code runs without errors, and the string 'Continent does not have 3 `countries'` is appended to countries instead of producing an error. "
   ]
  },
  {
   "cell_type": "code",
   "execution_count": 43,
   "id": "8e7631ee",
   "metadata": {},
   "outputs": [
    {
     "ename": "IndexError",
     "evalue": "list index out of range",
     "output_type": "error",
     "traceback": [
      "\u001b[1;31m---------------------------------------------------------------------------\u001b[0m",
      "\u001b[1;31mIndexError\u001b[0m                                Traceback (most recent call last)",
      "\u001b[1;32m~\\AppData\\Local\\Temp\\ipykernel_11676\\1609075880.py\u001b[0m in \u001b[0;36m<module>\u001b[1;34m\u001b[0m\n\u001b[0;32m      3\u001b[0m \u001b[0mthird_countries\u001b[0m \u001b[1;33m=\u001b[0m \u001b[1;33m[\u001b[0m\u001b[1;33m]\u001b[0m\u001b[1;33m\u001b[0m\u001b[1;33m\u001b[0m\u001b[0m\n\u001b[0;32m      4\u001b[0m \u001b[1;32mfor\u001b[0m \u001b[0mc\u001b[0m \u001b[1;32min\u001b[0m \u001b[0mconts\u001b[0m\u001b[1;33m:\u001b[0m\u001b[1;33m\u001b[0m\u001b[1;33m\u001b[0m\u001b[0m\n\u001b[1;32m----> 5\u001b[1;33m     \u001b[0mthird_countries\u001b[0m\u001b[1;33m.\u001b[0m\u001b[0mappend\u001b[0m\u001b[1;33m(\u001b[0m\u001b[0mc\u001b[0m\u001b[1;33m[\u001b[0m\u001b[1;36m2\u001b[0m\u001b[1;33m]\u001b[0m\u001b[1;33m)\u001b[0m\u001b[1;33m\u001b[0m\u001b[1;33m\u001b[0m\u001b[0m\n\u001b[0m",
      "\u001b[1;31mIndexError\u001b[0m: list index out of range"
     ]
    }
   ],
   "source": [
    "conts = [['Spain', 'France', 'Greece', 'Portugal', 'Romania', 'Germany'], ['USA', 'Mexico', 'Canada'], ['Japan', 'China', 'Korea', 'Vietnam', 'Cambodia'], \n",
    "         ['Argentina', 'Chile', 'Brazil', 'Ecuador', 'Uruguay', 'Venezuela'], ['Australia'], ['Zimbabwe', 'Morocco', 'Kenya', 'Ethiopa', 'South Africa'], ['Antarctica']]\n",
    "third_countries = []\n",
    "for c in conts:\n",
    "    third_countries.append(c[2])"
   ]
  },
  {
   "cell_type": "code",
   "execution_count": 51,
   "id": "4e62b5a9",
   "metadata": {},
   "outputs": [
    {
     "name": "stdout",
     "output_type": "stream",
     "text": [
      "Continent does not have 3 countries\n",
      "Continent does not have 3 countries\n",
      "['Greece', 'Canada', 'Korea', 'Brazil', 'Greece', 'Canada', 'Korea', 'Brazil', 'Continent does not have 3 countries', 'Kenya', 'Continent does not have 3 countries', 'Greece', 'Canada', 'Korea', 'Brazil', 'Kenya']\n"
     ]
    }
   ],
   "source": [
    "for c in conts:\n",
    "    try:\n",
    "        third_countries.append(c[2])\n",
    "    except IndexError:\n",
    "        print('Continent does not have 3 countries')\n",
    "\n",
    "print(third_countries)"
   ]
  },
  {
   "cell_type": "markdown",
   "id": "26dfeabf",
   "metadata": {},
   "source": [
    "## Question-2\n",
    "\n",
    "The buggy code below prints out the value of the sport in the list `sport`. Use try/except so that the code will run properly. If the sport is not in the dictionary, `ppl_play`, add it in with the value of 1. "
   ]
  },
  {
   "cell_type": "code",
   "execution_count": 49,
   "id": "8ccb2a09",
   "metadata": {},
   "outputs": [
    {
     "name": "stdout",
     "output_type": "stream",
     "text": [
      "4\n"
     ]
    },
    {
     "ename": "KeyError",
     "evalue": "'basketball'",
     "output_type": "error",
     "traceback": [
      "\u001b[1;31m---------------------------------------------------------------------------\u001b[0m",
      "\u001b[1;31mKeyError\u001b[0m                                  Traceback (most recent call last)",
      "\u001b[1;32m~\\AppData\\Local\\Temp\\ipykernel_11676\\2233320564.py\u001b[0m in \u001b[0;36m<module>\u001b[1;34m\u001b[0m\n\u001b[0;32m      3\u001b[0m \u001b[1;33m\u001b[0m\u001b[0m\n\u001b[0;32m      4\u001b[0m \u001b[1;32mfor\u001b[0m \u001b[0mx\u001b[0m \u001b[1;32min\u001b[0m \u001b[0msport\u001b[0m\u001b[1;33m:\u001b[0m\u001b[1;33m\u001b[0m\u001b[1;33m\u001b[0m\u001b[0m\n\u001b[1;32m----> 5\u001b[1;33m     \u001b[0mprint\u001b[0m\u001b[1;33m(\u001b[0m\u001b[0mppl_play\u001b[0m\u001b[1;33m[\u001b[0m\u001b[0mx\u001b[0m\u001b[1;33m]\u001b[0m\u001b[1;33m)\u001b[0m\u001b[1;33m\u001b[0m\u001b[1;33m\u001b[0m\u001b[0m\n\u001b[0m",
      "\u001b[1;31mKeyError\u001b[0m: 'basketball'"
     ]
    }
   ],
   "source": [
    "sport = [\"hockey\", \"basketball\", \"soccer\", \"tennis\", \"football\", \"baseball\"]\n",
    "ppl_play = {\"hockey\":4, \"soccer\": 10, \"football\": 15, \"tennis\": 8}\n",
    "\n",
    "for x in sport:\n",
    "    print(ppl_play[x])"
   ]
  },
  {
   "cell_type": "code",
   "execution_count": 50,
   "id": "5c5cd123",
   "metadata": {},
   "outputs": [
    {
     "name": "stdout",
     "output_type": "stream",
     "text": [
      "4\n",
      "error\n",
      "10\n",
      "8\n",
      "15\n",
      "error\n",
      "{'hockey': 4, 'soccer': 10, 'football': 15, 'tennis': 8}\n"
     ]
    }
   ],
   "source": [
    "for x in sport:\n",
    "    try:\n",
    "        print(ppl_play[x])\n",
    "    except KeyError:\n",
    "        print(\"error\")\n",
    "print(ppl_play)"
   ]
  },
  {
   "cell_type": "markdown",
   "id": "73744608",
   "metadata": {},
   "source": [
    "## Question-3\n",
    "\n",
    "Provided is a buggy for loop that tries to accumulate some values out of some dictionaries. Insert a try/except so that the code passes. If the key is not there, initialize it in the dictionary and set the value to zero. "
   ]
  },
  {
   "cell_type": "code",
   "execution_count": 52,
   "id": "a9a4b9d8",
   "metadata": {},
   "outputs": [
    {
     "ename": "KeyError",
     "evalue": "'Puppies'",
     "output_type": "error",
     "traceback": [
      "\u001b[1;31m---------------------------------------------------------------------------\u001b[0m",
      "\u001b[1;31mKeyError\u001b[0m                                  Traceback (most recent call last)",
      "\u001b[1;32m~\\AppData\\Local\\Temp\\ipykernel_11676\\3183526108.py\u001b[0m in \u001b[0;36m<module>\u001b[1;34m\u001b[0m\n\u001b[0;32m      3\u001b[0m \u001b[0mtotal\u001b[0m \u001b[1;33m=\u001b[0m \u001b[1;36m0\u001b[0m\u001b[1;33m\u001b[0m\u001b[1;33m\u001b[0m\u001b[0m\n\u001b[0;32m      4\u001b[0m \u001b[1;32mfor\u001b[0m \u001b[0mdiction\u001b[0m \u001b[1;32min\u001b[0m \u001b[0mdi\u001b[0m\u001b[1;33m:\u001b[0m\u001b[1;33m\u001b[0m\u001b[1;33m\u001b[0m\u001b[0m\n\u001b[1;32m----> 5\u001b[1;33m     \u001b[0mtotal\u001b[0m \u001b[1;33m=\u001b[0m \u001b[0mtotal\u001b[0m \u001b[1;33m+\u001b[0m \u001b[0mdiction\u001b[0m\u001b[1;33m[\u001b[0m\u001b[1;34m'Puppies'\u001b[0m\u001b[1;33m]\u001b[0m\u001b[1;33m\u001b[0m\u001b[1;33m\u001b[0m\u001b[0m\n\u001b[0m\u001b[0;32m      6\u001b[0m \u001b[1;33m\u001b[0m\u001b[0m\n\u001b[0;32m      7\u001b[0m \u001b[0mprint\u001b[0m\u001b[1;33m(\u001b[0m\u001b[1;34m\"Total number of puppies:\"\u001b[0m\u001b[1;33m,\u001b[0m \u001b[0mtotal\u001b[0m\u001b[1;33m)\u001b[0m\u001b[1;33m\u001b[0m\u001b[1;33m\u001b[0m\u001b[0m\n",
      "\u001b[1;31mKeyError\u001b[0m: 'Puppies'"
     ]
    }
   ],
   "source": [
    "di = [{\"Puppies\": 17, 'Kittens': 9, \"Birds\": 23, 'Fish': 90, \"Hamsters\": 49}, {\"Puppies\": 23, \"Birds\": 29, \"Fish\": 20, \"Mice\": 20, \"Snakes\": 7}, \n",
    "      {\"Fish\": 203, \"Hamsters\": 93, \"Snakes\": 25, \"Kittens\": 89}, {\"Birds\": 20, \"Puppies\": 90, \"Snakes\": 21, \"Fish\": 10, \"Kittens\": 67}]\n",
    "total = 0\n",
    "for diction in di:\n",
    "    total = total + diction['Puppies']\n",
    "\n",
    "print(\"Total number of puppies:\", total)"
   ]
  },
  {
   "cell_type": "code",
   "execution_count": 53,
   "id": "91f327e1",
   "metadata": {},
   "outputs": [
    {
     "name": "stdout",
     "output_type": "stream",
     "text": [
      "error\n",
      "Total number of puppies: 130\n"
     ]
    }
   ],
   "source": [
    "total = 0\n",
    "for diction in di:\n",
    "    try:\n",
    "        total += diction['Puppies']\n",
    "    except KeyError:\n",
    "        print(\"error\")\n",
    "\n",
    "print(\"Total number of puppies:\", total)"
   ]
  },
  {
   "cell_type": "code",
   "execution_count": null,
   "id": "704ddaa1",
   "metadata": {},
   "outputs": [],
   "source": []
  }
 ],
 "metadata": {
  "kernelspec": {
   "display_name": "Python 3 (ipykernel)",
   "language": "python",
   "name": "python3"
  },
  "language_info": {
   "codemirror_mode": {
    "name": "ipython",
    "version": 3
   },
   "file_extension": ".py",
   "mimetype": "text/x-python",
   "name": "python",
   "nbconvert_exporter": "python",
   "pygments_lexer": "ipython3",
   "version": "3.9.13"
  }
 },
 "nbformat": 4,
 "nbformat_minor": 5
}
