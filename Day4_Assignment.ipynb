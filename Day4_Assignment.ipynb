{
 "cells": [
  {
   "cell_type": "markdown",
   "id": "10368088",
   "metadata": {},
   "source": [
    "## 1) Build a flask api that has 5 routes\n",
    "* home route (\"/\") that prints a welcoming message\n",
    "* (\"/add\") corresponds to an adding function that takes x, y and returns their sum x+y\n",
    "* (\"/sub\") corresponds to a subtracting function that takes x, y and returns their subtraction x-y\n",
    "* (\"/multiply\") corresponds to a multiplying function that takes x, y and returns their multiplication x*y\n",
    "* (\"/divide\") corresponds to a division function that takes x, y and returns their division x/y\n",
    "\n",
    "the api sould be called from the command line with curl as disscused \n",
    "\n",
    "\n",
    "--- \n",
    "\n",
    "## 2) build the same functions above [add, sub, multiply, divide] as a package, install it and use these functions"
   ]
  },
  {
   "cell_type": "code",
   "execution_count": null,
   "id": "c2647496",
   "metadata": {},
   "outputs": [
    {
     "name": "stderr",
     "output_type": "stream",
     "text": [
      " * Running on http://localhost:9000/ (Press CTRL+C to quit)\n",
      "127.0.0.1 - - [05/Jun/2024 17:50:27] \"GET / HTTP/1.1\" 200 -\n",
      "127.0.0.1 - - [05/Jun/2024 17:50:27] \"GET /favicon.ico HTTP/1.1\" 404 -\n"
     ]
    }
   ],
   "source": [
    "from flask import Flask, request, jsonify\n",
    "from werkzeug.serving import run_simple\n",
    "\n",
    "app = Flask(__name__)\n",
    "\n",
    "@app.route(\"/\")\n",
    "def home():\n",
    "    return \"Welcome My Calculator API!\"\n",
    "\n",
    "@app.route(\"/add\", methods=['GET'])\n",
    "def add():\n",
    "    x = float(request.args.get('x', 0))\n",
    "    y = float(request.args.get('y', 0))\n",
    "    return jsonify(result=x + y)\n",
    "\n",
    "@app.route(\"/sub\", methods=['GET'])\n",
    "def sub():\n",
    "    x = float(request.args.get('x', 0))\n",
    "    y = float(request.args.get('y', 0))\n",
    "    return jsonify(result=x - y)\n",
    "\n",
    "@app.route(\"/multiply\", methods=['GET'])\n",
    "def multiply():\n",
    "    x = float(request.args.get('x', 0))\n",
    "    y = float(request.args.get('y', 0))\n",
    "    return jsonify(result=x * y)\n",
    "\n",
    "@app.route(\"/divide\", methods=['GET'])\n",
    "def divide():\n",
    "    x = float(request.args.get('x', 0))\n",
    "    y = float(request.args.get('y', 0))\n",
    "    if y == 0:\n",
    "        return jsonify(error=\"Division by zero is not allowed\"), 400\n",
    "    return jsonify(result=x / y)\n",
    "\n",
    "if __name__ == \"__main__\":\n",
    "    # Use run_simple to start the Flask app in a way that's compatible with Jupyter notebooks\n",
    "    run_simple('localhost', 9000, app, use_reloader=False, use_debugger=True)\n"
   ]
  },
  {
   "cell_type": "code",
   "execution_count": null,
   "id": "3886635e",
   "metadata": {},
   "outputs": [],
   "source": []
  },
  {
   "cell_type": "code",
   "execution_count": null,
   "id": "42fd4137",
   "metadata": {},
   "outputs": [],
   "source": []
  },
  {
   "cell_type": "markdown",
   "id": "c3cb0f78",
   "metadata": {},
   "source": []
  }
 ],
 "metadata": {
  "kernelspec": {
   "display_name": "Python 3 (ipykernel)",
   "language": "python",
   "name": "python3"
  },
  "language_info": {
   "codemirror_mode": {
    "name": "ipython",
    "version": 3
   },
   "file_extension": ".py",
   "mimetype": "text/x-python",
   "name": "python",
   "nbconvert_exporter": "python",
   "pygments_lexer": "ipython3",
   "version": "3.9.13"
  }
 },
 "nbformat": 4,
 "nbformat_minor": 5
}
